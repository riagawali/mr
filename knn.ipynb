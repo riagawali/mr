{
 "cells": [
  {
   "cell_type": "code",
   "execution_count": null,
   "metadata": {},
   "outputs": [],
   "source": [
    "import pandas as pd\n",
    "import numpy as np\n",
    "from scipy import stats\n",
    "\n",
    "# Load the data\n",
    "df = pd.read_csv(\"C:\\\\Users\\\\lenovo\\\\w_final\\\\DSBDALExam DataSets\\\\HeartDisease\\\\Cleavland.csv\", header=None)\n",
    "df.columns=['age', 'sex', 'cp', 'trestbps', 'chol', 'fbs', 'restecg', 'thalach', 'exang', 'oldpeak', 'slope', 'ca', 'thal', 'num']\n",
    "\n",
    "# Replace \"?\" with NaN\n",
    "df.replace(\"?\", np.nan, inplace=True)\n",
    "\n",
    "# Convert all columns to numeric if they're not already\n",
    "df = df.apply(pd.to_numeric, errors='coerce')\n",
    "\n",
    "# Drop rows with any NaN values\n",
    "df.dropna(inplace=True)\n"
   ]
  },
  {
   "cell_type": "code",
   "execution_count": null,
   "metadata": {},
   "outputs": [],
   "source": [
    "# Remove outliers\n",
    "df = df[(np.abs(stats.zscore(df)) < 3).all(axis=1)]\n"
   ]
  },
  {
   "cell_type": "code",
   "execution_count": null,
   "metadata": {},
   "outputs": [],
   "source": [
    "from sklearn.preprocessing import LabelEncoder\n",
    "\n",
    "# df.loc[df['sex']==1,'sex']='M'\n",
    "# df.loc[df['sex']==0,'sex']='F'\n",
    "lb=LabelEncoder()\n",
    "df['sex']=lb.fit_transform(df['sex'])\n",
    "df"
   ]
  },
  {
   "cell_type": "code",
   "execution_count": null,
   "metadata": {},
   "outputs": [],
   "source": [
    "from sklearn.model_selection import train_test_split\n",
    "from sklearn.linear_model import LogisticRegression\n",
    "from sklearn.neighbors import KNeighborsClassifier\n",
    "from sklearn.metrics import accuracy_score\n",
    "\n",
    "# Define X and Y\n",
    "X = df.drop('num', axis =1)\n",
    "y = df['num']\n",
    "\n",
    "# Split the data\n",
    "X_train, X_test, y_train, y_test = train_test_split(X, y, test_size=0.2, random_state=42)\n",
    "\n",
    "# Logistic Regression\n",
    "log_reg = LogisticRegression()\n",
    "log_reg.fit(X_train, y_train)\n",
    "log_reg_pred = log_reg.predict(X_test)\n",
    "log_reg_acc = accuracy_score(y_test, log_reg_pred)\n",
    "\n",
    "# k-Nearest Neighbors\n",
    "knn = KNeighborsClassifier()\n",
    "knn.fit(X_train, y_train)\n",
    "knn_pred = knn.predict(X_test)\n",
    "knn_acc = accuracy_score(y_test, knn_pred)\n",
    "\n",
    "# Compare the results\n",
    "print(\"Logistic Regression Accuracy: \",log_reg_acc )\n",
    "print(\"k-Nearest Neighbors Accuracy: \",knn_acc )\n"
   ]
  },
  {
   "cell_type": "code",
   "execution_count": null,
   "metadata": {},
   "outputs": [],
   "source": []
  }
 ],
 "metadata": {
  "kernelspec": {
   "display_name": "Python 3",
   "language": "python",
   "name": "python3"
  },
  "language_info": {
   "codemirror_mode": {
    "name": "ipython",
    "version": 3
   },
   "file_extension": ".py",
   "mimetype": "text/x-python",
   "name": "python",
   "nbconvert_exporter": "python",
   "pygments_lexer": "ipython3",
   "version": "3.11.5"
  }
 },
 "nbformat": 4,
 "nbformat_minor": 2
}
